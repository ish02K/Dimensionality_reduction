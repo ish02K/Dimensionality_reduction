{
  "nbformat": 4,
  "nbformat_minor": 0,
  "metadata": {
    "colab": {
      "provenance": [],
      "authorship_tag": "ABX9TyNHQPac64izUJ4Uum9T+0GS",
      "include_colab_link": true
    },
    "kernelspec": {
      "name": "python3",
      "display_name": "Python 3"
    },
    "language_info": {
      "name": "python"
    }
  },
  "cells": [
    {
      "cell_type": "markdown",
      "metadata": {
        "id": "view-in-github",
        "colab_type": "text"
      },
      "source": [
        "<a href=\"https://colab.research.google.com/github/ish02K/Dimensionality_reduction/blob/main/Assignment_22_Dimensionality_reduction_using_feature_selection.ipynb\" target=\"_parent\"><img src=\"https://colab.research.google.com/assets/colab-badge.svg\" alt=\"Open In Colab\"/></a>"
      ]
    },
    {
      "cell_type": "code",
      "execution_count": null,
      "metadata": {
        "id": "SUNj-PHG8xBT"
      },
      "outputs": [],
      "source": [
        "# THRESHOLDING NUMERICAL FEATURE VARIANCE"
      ]
    },
    {
      "cell_type": "code",
      "source": [
        "# Load libraries\n",
        "from sklearn import datasets\n",
        "from sklearn.feature_selection import VarianceThreshold\n",
        "\n",
        "# import some data to play with\n",
        "iris = datasets.load_iris()\n",
        "\n",
        "# Create features and target\n",
        "features = iris.data\n",
        "target = iris.target\n",
        "\n",
        "# Create thresholder\n",
        "thresholder = VarianceThreshold(threshold=.5)\n",
        "\n",
        "# Create high variance feature matrix\n",
        "features_high_variance = thresholder.fit_transform(features)\n",
        "\n",
        "# View high variance feature matrix\n",
        "features_high_variance[0:3]\n"
      ],
      "metadata": {
        "colab": {
          "base_uri": "https://localhost:8080/"
        },
        "id": "Jlsr7ELt-_f1",
        "outputId": "e3c06cbe-9842-4d2e-d186-510cc44b44f7"
      },
      "execution_count": null,
      "outputs": [
        {
          "output_type": "execute_result",
          "data": {
            "text/plain": [
              "array([[5.1, 1.4, 0.2],\n",
              "       [4.9, 1.4, 0.2],\n",
              "       [4.7, 1.3, 0.2]])"
            ]
          },
          "metadata": {},
          "execution_count": 2
        }
      ]
    },
    {
      "cell_type": "code",
      "source": [
        "# View variances\n",
        "thresholder.fit(features).variances_"
      ],
      "metadata": {
        "colab": {
          "base_uri": "https://localhost:8080/"
        },
        "id": "SRouE29k_Sn0",
        "outputId": "04290733-5f95-44be-8442-c138c5e0dfe0"
      },
      "execution_count": null,
      "outputs": [
        {
          "output_type": "execute_result",
          "data": {
            "text/plain": [
              "array([0.68112222, 0.18871289, 3.09550267, 0.57713289])"
            ]
          },
          "metadata": {},
          "execution_count": 4
        }
      ]
    },
    {
      "cell_type": "code",
      "source": [
        "# Load library\n",
        "from sklearn.preprocessing import StandardScaler\n",
        "# Standardize feature matrix\n",
        "scaler = StandardScaler()\n",
        "features_std = scaler.fit_transform(features)\n",
        "# Caculate variance of each feature\n",
        "selector = VarianceThreshold()\n",
        "selector.fit(features_std).variances_\n"
      ],
      "metadata": {
        "colab": {
          "base_uri": "https://localhost:8080/"
        },
        "id": "m-w5YgTdAPbr",
        "outputId": "8bfbf35c-6a7a-4742-f962-4bb594cbea23"
      },
      "execution_count": null,
      "outputs": [
        {
          "output_type": "execute_result",
          "data": {
            "text/plain": [
              "array([1., 1., 1., 1.])"
            ]
          },
          "metadata": {},
          "execution_count": 5
        }
      ]
    },
    {
      "cell_type": "code",
      "source": [
        "# THRESHOLDING BINARY FEATURE VARIANCE"
      ],
      "metadata": {
        "id": "b6OGfJYQAZ7Y"
      },
      "execution_count": null,
      "outputs": []
    },
    {
      "cell_type": "code",
      "source": [
        "# Load library\n",
        "from sklearn.feature_selection import VarianceThreshold\n",
        "\n",
        "# Create feature matrix with:\n",
        "# Feature 0: 80% class 0\n",
        "# Feature 1: 80% class 1\n",
        "# Feature 2: 60% class 0, 40% class 1\n",
        "\n",
        "features = [[0, 1, 0],\n",
        "            [0, 1, 1],\n",
        "            [0, 1, 0],\n",
        "            [0, 1, 1],\n",
        "            [1, 0, 0]]\n",
        "\n",
        "# Run threshold by variance\n",
        "thresholder = VarianceThreshold(threshold=(.75 * (1 - .75)))\n",
        "thresholder.fit_transform(features)"
      ],
      "metadata": {
        "colab": {
          "base_uri": "https://localhost:8080/"
        },
        "id": "rHVamRQMA4wx",
        "outputId": "5c503642-0d99-4239-c362-73f74663c22c"
      },
      "execution_count": null,
      "outputs": [
        {
          "output_type": "execute_result",
          "data": {
            "text/plain": [
              "array([[0],\n",
              "       [1],\n",
              "       [0],\n",
              "       [1],\n",
              "       [0]])"
            ]
          },
          "metadata": {},
          "execution_count": 7
        }
      ]
    },
    {
      "cell_type": "code",
      "source": [
        "# HANDLING HIGHLY CORRELATED FEATURES"
      ],
      "metadata": {
        "id": "KAlYdVGVBWx3"
      },
      "execution_count": null,
      "outputs": []
    },
    {
      "cell_type": "code",
      "source": [
        "# Load libraries\n",
        "import pandas as pd\n",
        "import numpy as np\n",
        "# Create feature matrix with two highly correlated features\n",
        "features = np.array([[1, 1, 1],\n",
        "                    [2, 2, 0],\n",
        "                    [3, 3, 1],\n",
        "                    [4, 4, 0],\n",
        "                    [5, 5, 1],\n",
        "                    [6, 6, 0],\n",
        "                    [7, 7, 1],\n",
        "                    [8, 7, 0],\n",
        "                    [9, 7, 1]])\n",
        "\n",
        "# Convert feature matrix into DataFrame\n",
        "dataframe = pd.DataFrame(features)\n",
        "\n",
        "# Create correlation matrix\n",
        "corr_matrix = dataframe.corr().abs()\n",
        "\n",
        "# Select upper triangle of correlation matrix\n",
        "upper = corr_matrix.where(np.triu(np.ones(corr_matrix.shape),\n",
        " k=1).astype(np.bool))\n",
        "\n",
        "# Find index of feature columns with correlation greater than 0.95\n",
        "to_drop = [column for column in upper.columns if any(upper[column] > 0.95)]\n",
        "\n",
        "# Drop features\n",
        "dataframe.drop(dataframe.columns[to_drop],axis=1).head(3)"
      ],
      "metadata": {
        "colab": {
          "base_uri": "https://localhost:8080/",
          "height": 143
        },
        "id": "qGuZJwfiCCMI",
        "outputId": "84d01dc1-5d0d-4ca1-a610-84fc97cd9170"
      },
      "execution_count": null,
      "outputs": [
        {
          "output_type": "execute_result",
          "data": {
            "text/html": [
              "\n",
              "  <div id=\"df-87c35854-275e-4739-a8f0-949a6f77d087\">\n",
              "    <div class=\"colab-df-container\">\n",
              "      <div>\n",
              "<style scoped>\n",
              "    .dataframe tbody tr th:only-of-type {\n",
              "        vertical-align: middle;\n",
              "    }\n",
              "\n",
              "    .dataframe tbody tr th {\n",
              "        vertical-align: top;\n",
              "    }\n",
              "\n",
              "    .dataframe thead th {\n",
              "        text-align: right;\n",
              "    }\n",
              "</style>\n",
              "<table border=\"1\" class=\"dataframe\">\n",
              "  <thead>\n",
              "    <tr style=\"text-align: right;\">\n",
              "      <th></th>\n",
              "      <th>0</th>\n",
              "      <th>2</th>\n",
              "    </tr>\n",
              "  </thead>\n",
              "  <tbody>\n",
              "    <tr>\n",
              "      <th>0</th>\n",
              "      <td>1</td>\n",
              "      <td>1</td>\n",
              "    </tr>\n",
              "    <tr>\n",
              "      <th>1</th>\n",
              "      <td>2</td>\n",
              "      <td>0</td>\n",
              "    </tr>\n",
              "    <tr>\n",
              "      <th>2</th>\n",
              "      <td>3</td>\n",
              "      <td>1</td>\n",
              "    </tr>\n",
              "  </tbody>\n",
              "</table>\n",
              "</div>\n",
              "      <button class=\"colab-df-convert\" onclick=\"convertToInteractive('df-87c35854-275e-4739-a8f0-949a6f77d087')\"\n",
              "              title=\"Convert this dataframe to an interactive table.\"\n",
              "              style=\"display:none;\">\n",
              "        \n",
              "  <svg xmlns=\"http://www.w3.org/2000/svg\" height=\"24px\"viewBox=\"0 0 24 24\"\n",
              "       width=\"24px\">\n",
              "    <path d=\"M0 0h24v24H0V0z\" fill=\"none\"/>\n",
              "    <path d=\"M18.56 5.44l.94 2.06.94-2.06 2.06-.94-2.06-.94-.94-2.06-.94 2.06-2.06.94zm-11 1L8.5 8.5l.94-2.06 2.06-.94-2.06-.94L8.5 2.5l-.94 2.06-2.06.94zm10 10l.94 2.06.94-2.06 2.06-.94-2.06-.94-.94-2.06-.94 2.06-2.06.94z\"/><path d=\"M17.41 7.96l-1.37-1.37c-.4-.4-.92-.59-1.43-.59-.52 0-1.04.2-1.43.59L10.3 9.45l-7.72 7.72c-.78.78-.78 2.05 0 2.83L4 21.41c.39.39.9.59 1.41.59.51 0 1.02-.2 1.41-.59l7.78-7.78 2.81-2.81c.8-.78.8-2.07 0-2.86zM5.41 20L4 18.59l7.72-7.72 1.47 1.35L5.41 20z\"/>\n",
              "  </svg>\n",
              "      </button>\n",
              "      \n",
              "  <style>\n",
              "    .colab-df-container {\n",
              "      display:flex;\n",
              "      flex-wrap:wrap;\n",
              "      gap: 12px;\n",
              "    }\n",
              "\n",
              "    .colab-df-convert {\n",
              "      background-color: #E8F0FE;\n",
              "      border: none;\n",
              "      border-radius: 50%;\n",
              "      cursor: pointer;\n",
              "      display: none;\n",
              "      fill: #1967D2;\n",
              "      height: 32px;\n",
              "      padding: 0 0 0 0;\n",
              "      width: 32px;\n",
              "    }\n",
              "\n",
              "    .colab-df-convert:hover {\n",
              "      background-color: #E2EBFA;\n",
              "      box-shadow: 0px 1px 2px rgba(60, 64, 67, 0.3), 0px 1px 3px 1px rgba(60, 64, 67, 0.15);\n",
              "      fill: #174EA6;\n",
              "    }\n",
              "\n",
              "    [theme=dark] .colab-df-convert {\n",
              "      background-color: #3B4455;\n",
              "      fill: #D2E3FC;\n",
              "    }\n",
              "\n",
              "    [theme=dark] .colab-df-convert:hover {\n",
              "      background-color: #434B5C;\n",
              "      box-shadow: 0px 1px 3px 1px rgba(0, 0, 0, 0.15);\n",
              "      filter: drop-shadow(0px 1px 2px rgba(0, 0, 0, 0.3));\n",
              "      fill: #FFFFFF;\n",
              "    }\n",
              "  </style>\n",
              "\n",
              "      <script>\n",
              "        const buttonEl =\n",
              "          document.querySelector('#df-87c35854-275e-4739-a8f0-949a6f77d087 button.colab-df-convert');\n",
              "        buttonEl.style.display =\n",
              "          google.colab.kernel.accessAllowed ? 'block' : 'none';\n",
              "\n",
              "        async function convertToInteractive(key) {\n",
              "          const element = document.querySelector('#df-87c35854-275e-4739-a8f0-949a6f77d087');\n",
              "          const dataTable =\n",
              "            await google.colab.kernel.invokeFunction('convertToInteractive',\n",
              "                                                     [key], {});\n",
              "          if (!dataTable) return;\n",
              "\n",
              "          const docLinkHtml = 'Like what you see? Visit the ' +\n",
              "            '<a target=\"_blank\" href=https://colab.research.google.com/notebooks/data_table.ipynb>data table notebook</a>'\n",
              "            + ' to learn more about interactive tables.';\n",
              "          element.innerHTML = '';\n",
              "          dataTable['output_type'] = 'display_data';\n",
              "          await google.colab.output.renderOutput(dataTable, element);\n",
              "          const docLink = document.createElement('div');\n",
              "          docLink.innerHTML = docLinkHtml;\n",
              "          element.appendChild(docLink);\n",
              "        }\n",
              "      </script>\n",
              "    </div>\n",
              "  </div>\n",
              "  "
            ],
            "text/plain": [
              "   0  2\n",
              "0  1  1\n",
              "1  2  0\n",
              "2  3  1"
            ]
          },
          "metadata": {},
          "execution_count": 9
        }
      ]
    },
    {
      "cell_type": "code",
      "source": [
        "# REMOVING IRRELEVANT FEATURES FOR CLASSIFICATION"
      ],
      "metadata": {
        "id": "3xHCoN4RC5Ja"
      },
      "execution_count": null,
      "outputs": []
    },
    {
      "cell_type": "code",
      "source": [
        "# Load libraries\n",
        "from sklearn.datasets import load_iris\n",
        "from sklearn.feature_selection import SelectKBest\n",
        "from sklearn.feature_selection import chi2, f_classif\n",
        "\n",
        "# Load data\n",
        "iris = load_iris()\n",
        "features = iris.data\n",
        "target = iris.target\n",
        "\n",
        "# Convert to categorical data by converting data to integers\n",
        "features = features.astype(int)\n",
        "\n",
        "# Select two features with highest chi-squared statistics\n",
        "chi2_selector = SelectKBest(chi2, k=2)\n",
        "features_kbest = chi2_selector.fit_transform(features, target)\n",
        "# Show results\n",
        "print(\"Original number of features:\", features.shape[1])\n",
        "print(\"Reduced number of features:\", features_kbest.shape[1])"
      ],
      "metadata": {
        "colab": {
          "base_uri": "https://localhost:8080/"
        },
        "id": "AC3l-GNeEIuw",
        "outputId": "899c9641-8c00-477c-a5ee-e9a874001159"
      },
      "execution_count": null,
      "outputs": [
        {
          "output_type": "stream",
          "name": "stdout",
          "text": [
            "Original number of features: 4\n",
            "Reduced number of features: 2\n"
          ]
        }
      ]
    },
    {
      "cell_type": "code",
      "source": [
        "# Select two features with highest F-values\n",
        "fvalue_selector = SelectKBest(f_classif, k=2)\n",
        "features_kbest = fvalue_selector.fit_transform(features, target)\n",
        "\n",
        "# Show results\n",
        "print(\"Original number of features:\", features.shape[1])\n",
        "print(\"Reduced number of features:\", features_kbest.shape[1])"
      ],
      "metadata": {
        "colab": {
          "base_uri": "https://localhost:8080/"
        },
        "id": "Ar1LsFRRFor-",
        "outputId": "728c2406-6417-4e72-b91a-28459d3d4a82"
      },
      "execution_count": null,
      "outputs": [
        {
          "output_type": "stream",
          "name": "stdout",
          "text": [
            "Original number of features: 4\n",
            "Reduced number of features: 2\n"
          ]
        }
      ]
    },
    {
      "cell_type": "code",
      "source": [
        "# Load library\n",
        "from sklearn.feature_selection import SelectPercentile\n",
        "# Select top 75% of features with highest F-values\n",
        "fvalue_selector = SelectPercentile(f_classif, percentile=75)\n",
        "features_kbest = fvalue_selector.fit_transform(features, target)\n",
        "# Show results\n",
        "print(\"Original number of features:\", features.shape[1])\n",
        "print(\"Reduced number of features:\", features_kbest.shape[1])"
      ],
      "metadata": {
        "colab": {
          "base_uri": "https://localhost:8080/"
        },
        "id": "sc19dqdGF9HP",
        "outputId": "97ce387c-79bf-4996-a570-55cf16b407e2"
      },
      "execution_count": null,
      "outputs": [
        {
          "output_type": "stream",
          "name": "stdout",
          "text": [
            "Original number of features: 4\n",
            "Reduced number of features: 3\n"
          ]
        }
      ]
    },
    {
      "cell_type": "code",
      "source": [
        "# RECURSIVELY ELIMINATING FEATURES"
      ],
      "metadata": {
        "id": "WrxQWz7PGC7c"
      },
      "execution_count": null,
      "outputs": []
    },
    {
      "cell_type": "code",
      "source": [
        "# Load libraries\n",
        "import warnings\n",
        "from sklearn.datasets import make_regression\n",
        "from sklearn.feature_selection import RFECV\n",
        "from sklearn import datasets, linear_model\n",
        "\n",
        "# Suppress an annoying but harmless warning\n",
        "warnings.filterwarnings(action=\"ignore\", module=\"scipy\",\n",
        " message=\"^internal gelsd\")\n",
        "\n",
        "# Generate features matrix, target vector, and the true coefficients\n",
        "features, target = make_regression(n_samples = 10000,\n",
        " n_features = 100,\n",
        " n_informative = 2,\n",
        " random_state = 1)\n",
        "\n",
        "# Create a linear regression\n",
        "ols = linear_model.LinearRegression()\n",
        "\n",
        "# Recursively eliminate features\n",
        "rfecv = RFECV(estimator=ols, step=1, scoring=\"neg_mean_squared_error\")\n",
        "rfecv.fit(features, target)\n",
        "rfecv.transform(features)\n"
      ],
      "metadata": {
        "colab": {
          "base_uri": "https://localhost:8080/"
        },
        "id": "Xgoviw9EHXC3",
        "outputId": "3c415b3f-f434-4af2-c6da-3b7095de43c1"
      },
      "execution_count": null,
      "outputs": [
        {
          "output_type": "execute_result",
          "data": {
            "text/plain": [
              "array([[ 0.00850799,  0.7031277 ],\n",
              "       [-1.07500204,  2.56148527],\n",
              "       [ 1.37940721, -1.77039484],\n",
              "       ...,\n",
              "       [-0.80331656, -1.60648007],\n",
              "       [ 0.39508844, -1.34564911],\n",
              "       [-0.55383035,  0.82880112]])"
            ]
          },
          "metadata": {},
          "execution_count": 15
        }
      ]
    },
    {
      "cell_type": "code",
      "source": [
        "# Number of best features\n",
        "rfecv.n_features_"
      ],
      "metadata": {
        "colab": {
          "base_uri": "https://localhost:8080/"
        },
        "id": "gqXjYTJ_H8P8",
        "outputId": "614e1cf1-f230-4108-9c1f-90a70c91428b"
      },
      "execution_count": null,
      "outputs": [
        {
          "output_type": "execute_result",
          "data": {
            "text/plain": [
              "2"
            ]
          },
          "metadata": {},
          "execution_count": 16
        }
      ]
    },
    {
      "cell_type": "code",
      "source": [
        "# Which categories are best\n",
        "rfecv.support_"
      ],
      "metadata": {
        "colab": {
          "base_uri": "https://localhost:8080/"
        },
        "id": "r70n7ZxPIK7s",
        "outputId": "e86a3ac6-80fc-4b3f-d2bb-99c3e1591c2d"
      },
      "execution_count": null,
      "outputs": [
        {
          "output_type": "execute_result",
          "data": {
            "text/plain": [
              "array([False, False, False, False, False,  True, False, False, False,\n",
              "       False, False, False, False, False, False, False, False, False,\n",
              "       False, False, False, False, False, False, False, False, False,\n",
              "       False, False, False, False, False, False, False, False, False,\n",
              "       False, False, False,  True, False, False, False, False, False,\n",
              "       False, False, False, False, False, False, False, False, False,\n",
              "       False, False, False, False, False, False, False, False, False,\n",
              "       False, False, False, False, False, False, False, False, False,\n",
              "       False, False, False, False, False, False, False, False, False,\n",
              "       False, False, False, False, False, False, False, False, False,\n",
              "       False, False, False, False, False, False, False, False, False,\n",
              "       False])"
            ]
          },
          "metadata": {},
          "execution_count": 18
        }
      ]
    },
    {
      "cell_type": "code",
      "source": [
        "# Rank features best (1) to worst\n",
        "rfecv.ranking_"
      ],
      "metadata": {
        "colab": {
          "base_uri": "https://localhost:8080/"
        },
        "id": "VHk9vf6CI8hZ",
        "outputId": "53a7d9e0-27d3-4286-c55d-d0da02bc64d1"
      },
      "execution_count": null,
      "outputs": [
        {
          "output_type": "execute_result",
          "data": {
            "text/plain": [
              "array([33, 39, 42, 20,  6,  1, 82, 35, 32,  3, 10, 72, 24, 44, 12, 49, 93,\n",
              "       84, 94,  2, 25, 21, 78, 31, 43, 50, 47, 52, 81, 23, 61, 96, 80, 14,\n",
              "       15, 58, 75, 29, 83,  1, 18, 68, 46, 19, 30,  5, 48, 60, 56, 69, 89,\n",
              "        4, 79, 62, 11,  7, 98, 17, 71, 95, 54, 65,  9, 77, 53, 67, 16, 87,\n",
              "       41, 85, 97, 70, 26, 76, 59, 99, 36, 34, 38, 90, 55, 64, 57, 88, 22,\n",
              "       73, 86, 92, 27, 51, 66, 13, 74, 45, 40, 63, 37, 28,  8, 91])"
            ]
          },
          "metadata": {},
          "execution_count": 19
        }
      ]
    },
    {
      "cell_type": "code",
      "source": [],
      "metadata": {
        "id": "GYKca-6KJIk3"
      },
      "execution_count": null,
      "outputs": []
    }
  ]
}